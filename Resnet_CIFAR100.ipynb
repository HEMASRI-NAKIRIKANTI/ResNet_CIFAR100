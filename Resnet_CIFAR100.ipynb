{
  "nbformat": 4,
  "nbformat_minor": 0,
  "metadata": {
    "colab": {
      "provenance": []
    },
    "kernelspec": {
      "name": "python3",
      "display_name": "Python 3"
    },
    "language_info": {
      "name": "python"
    }
  },
  "cells": [
    {
      "cell_type": "code",
      "execution_count": 9,
      "metadata": {
        "id": "H-Xfax4beF2V"
      },
      "outputs": [],
      "source": [
        "import keras\n",
        "from keras.layers import Input, UpSampling2D, Flatten, BatchNormalization, Dense, Dropout, GlobalAveragePooling2D\n",
        "from keras import optimizers\n",
        "from keras.datasets import cifar100\n",
        "from keras.utils import to_categorical\n",
        "import numpy as np\n",
        "import matplotlib.pyplot as plt\n",
        "import time\n",
        "from keras.models import Sequential\n",
        "from skimage.transform import resize\n",
        "from keras.applications.resnet50 import preprocess_input, decode_predictions\n",
        "from keras.preprocessing.image import ImageDataGenerator\n",
        "from keras.applications.resnet50 import ResNet50, preprocess_input"
      ]
    },
    {
      "cell_type": "code",
      "source": [
        "num_classes = 100\n",
        "nb_epochs = 10\n",
        "\n",
        "(x_train, y_train), (x_test, y_test) = cifar100.load_data()\n",
        "\n",
        "#Pre-process the data\n",
        "x_train = preprocess_input(x_train)\n",
        "x_test = preprocess_input(x_test)\n",
        "#Keras ImageDataGenerator provides a quick and easy way to augment your images. like standardization, rotation, shifts, flips, brightness change, and many more\n",
        "datagen = ImageDataGenerator()\n",
        "datagen.fit(x_train)"
      ],
      "metadata": {
        "colab": {
          "base_uri": "https://localhost:8080/"
        },
        "id": "8RY1CvcXfKQr",
        "outputId": "92085aa3-2de5-4e99-ea11-e86bbb8a3877"
      },
      "execution_count": 4,
      "outputs": [
        {
          "output_type": "stream",
          "name": "stdout",
          "text": [
            "Downloading data from https://www.cs.toronto.edu/~kriz/cifar-100-python.tar.gz\n",
            "169001437/169001437 [==============================] - 2s 0us/step\n"
          ]
        }
      ]
    },
    {
      "cell_type": "code",
      "source": [
        "#y_train initially: [0, 1] After to_categorical with num_classes=3: y_train becomes: [[1, 0, 0], [0, 1, 0]]\n",
        "y_train = to_categorical(y_train, num_classes)\n",
        "y_test = to_categorical(y_test, num_classes)"
      ],
      "metadata": {
        "id": "7EQvuiKJfl28"
      },
      "execution_count": 5,
      "outputs": []
    },
    {
      "cell_type": "code",
      "source": [
        "# weights are taken based on the imagenet ( a pretrained model) we can take weights = None if want to train from stractch\n",
        "# include_top= False which makes us design our dense newtork\n",
        "resnet_model = ResNet50(weights='imagenet', include_top=False, input_shape=(256, 256, 3))\n",
        "\n",
        "for layer in resnet_model.layers:\n",
        "    if isinstance(layer, BatchNormalization):\n",
        "        layer.trainable = True\n",
        "    else:\n",
        "        layer.trainable = False\n",
        "\n",
        "model = Sequential()\n",
        "model.add(UpSampling2D())\n",
        "model.add(UpSampling2D())\n",
        "model.add(UpSampling2D())\n",
        "model.add(resnet_model)\n",
        "model.add(GlobalAveragePooling2D())\n",
        "model.add(Dense(256, activation='relu'))\n",
        "model.add(Dropout(.25))\n",
        "model.add(BatchNormalization())\n",
        "model.add(Dense(num_classes, activation='softmax'))"
      ],
      "metadata": {
        "id": "__esg37qgjml"
      },
      "execution_count": 14,
      "outputs": []
    },
    {
      "cell_type": "code",
      "source": [
        "model.compile(loss='categorical_crossentropy',optimizer='adam',metrics=['accuracy'])"
      ],
      "metadata": {
        "id": "m42_9VJEgpXC"
      },
      "execution_count": 15,
      "outputs": []
    },
    {
      "cell_type": "code",
      "source": [
        "import time\n",
        "t=time.time()\n",
        "model.fit(x=datagen.flow(x_train, y_train, batch_size=1),\n",
        "          steps_per_epoch=len(x_train),\n",
        "          epochs=5,\n",
        "          validation_data=(x_test, y_test))\n",
        "\n",
        "print('Training time: %s' % (t - time.time()))"
      ],
      "metadata": {
        "colab": {
          "base_uri": "https://localhost:8080/"
        },
        "id": "ufGDiIfIi9kE",
        "outputId": "29022647-7bd0-4aaf-bee1-6f8c17a37fa4"
      },
      "execution_count": null,
      "outputs": [
        {
          "output_type": "stream",
          "name": "stdout",
          "text": [
            "Epoch 1/5\n",
            "10480/50000 [=====>........................] - ETA: 7:16:17 - loss: 4.6160 - accuracy: 0.0118"
          ]
        }
      ]
    },
    {
      "cell_type": "code",
      "source": [
        "X = preprocess_input(x_test)\n",
        "preds = model.predict(X)\n",
        "print(preds)\n",
        ""
      ],
      "metadata": {
        "id": "fRY-b9Y-kAqP"
      },
      "execution_count": null,
      "outputs": []
    }
  ]
}